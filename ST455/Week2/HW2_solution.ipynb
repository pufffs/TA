{
 "cells": [
  {
   "cell_type": "markdown",
   "id": "professional-priority",
   "metadata": {},
   "source": [
    "## HW2\n",
    "\n",
    "Consider a $k$th-order Markov decision process model that satisfies the $k$th-order Markov assumption and the time-homogeneity assumption, for some integer $k\\ge 1$. Specifically, the $k$th-order Markov assumption requires the conditional distribution of $(S_{t+k},R_{t+k-1})$ to be conditionally independent of the data history given $(A_{t+k-1},S_{t+k-1})$ and observations collected between time $t$ and $t+k-2$. When $k=1$, it is reduced to the standard Markov assumption. The time homogeneity requires this conditional distribution to be stationary over time. Please discuss the form of the optimal policy under this model and justify your answer."
   ]
  },
  {
   "cell_type": "markdown",
   "id": "f7cc3389",
   "metadata": {},
   "source": [
    "## your answer here"
   ]
  },
  {
   "cell_type": "markdown",
   "id": "e8ca8dfa",
   "metadata": {},
   "source": [
    "For any $t$, we construct a new state vector $\\overline{S}_{t}^{(k)}$ by concatenating measures over the past $k$ time steps. In particular, let\n",
    "\\begin{eqnarray*}\n",
    "    \\overline{S}_{t}^{(k)}=(S_t,R_{t-1},A_{t-1},S_{t-1},\\cdots,R_{t-k+1},A_{t-k+1},S_{t-k+1}).\n",
    "\\end{eqnarray*}\n",
    "When $k=1$, $\\overline{S}_{t}^{(k)}$ is reduced to $S_t$. \n",
    "\n",
    "In the following, we will show that the transformed data $\\{(\\overline{S}_{t}^{(k)},A_t,R_t)\\}_t$ satisfy the MDP assumption (e.g., Markovanity \\& time-homogeneity). According to the existence of the optimal stationary policy theorem we discussed in Lecture 2, the optimal policy at time $t$ depends on the history only through $\\overline{S}_{t}^{(k)}$. In addition, these decision rules are stationary over time.\n",
    "\n",
    "By definition, the **Markov** assumption requirs that\n",
    "\n",
    "\\begin{eqnarray*}\n",
    "    \\mathbb{P}(\\overline{S}_{t+1}^{(k)},R_t|A_t,S_t,R_{t-1},A_{t-1},S_{t-1},\\cdots,R_0,A_0,S_0)=\\mathbb{P}(\\overline{S}_{t+1}^{(k)},R_t|A_t,\\overline{S}_t^{(k)}).\n",
    "\\end{eqnarray*}\n",
    "\n",
    "Recall that $\\overline{S}_{t+1}^{(k)}$ is a union of $S{t+1}$ and observations collected between time $t$ and $t+k-2$. Given $A_t$ and $\\overline{S}_t^{(k)}$, observations collected between time $t$ and $t+k-2$ are fixed. It suffices to show\n",
    "\n",
    "\\begin{eqnarray*}\n",
    "    \\mathbb{P}(S_{t+1},R_t|A_t,S_t,R_{t-1},A_{t-1},S_{t-1},\\cdots,R_0,A_0,S_0)=\\mathbb{P}(S_{t+1},R_t|A_t,\\overline{S}_t^{(k)}).\n",
    "\\end{eqnarray*}\n",
    "\n",
    "This is automatically satisfied under the $k$th-oder Markov assumption. \n",
    "\n",
    "Using similar arguments, to prove the **time-homogeneity** assumption, it suffices to show the probability $\\mathbb{P}(S_{t+1},R_t|A_t=a,\\overline{S}_t^{(k)}=\\bar{s})$ to be a stationary function of $t$, for any $a$ and $\\bar{s}$. This is automatically satisfied under the time-homogeneity assumption of the $k$th-order Markov decision process model. "
   ]
  },
  {
   "cell_type": "markdown",
   "id": "f20e6858",
   "metadata": {},
   "source": [
    "<img src=\"graphs/atari.png\" width=900 />\n",
    "<img src=\"graphs/diabetes.png\" width=900 />"
   ]
  }
 ],
 "metadata": {
  "kernelspec": {
   "display_name": "Python 3 (ipykernel)",
   "language": "python",
   "name": "python3"
  },
  "language_info": {
   "codemirror_mode": {
    "name": "ipython",
    "version": 3
   },
   "file_extension": ".py",
   "mimetype": "text/x-python",
   "name": "python",
   "nbconvert_exporter": "python",
   "pygments_lexer": "ipython3",
   "version": "3.9.7"
  }
 },
 "nbformat": 4,
 "nbformat_minor": 5
}
