{
 "cells": [
  {
   "cell_type": "markdown",
   "id": "advised-windsor",
   "metadata": {},
   "source": [
    "# Seminar 4: Temporal-Difference (TD) Learning\n",
    "\n",
    "In this seminar, we will implement and evaluate elementary solution methods for reinforcement learning, \n",
    "including methods based on Monte Carlo (MC) estimation and time-differencing (TD) methods. \n",
    "Specifically, we will consider examples in which we use the following solution methods:\n",
    "\n",
    "* A. The Random Walk problem: value function estimation using TD(0) methods\n",
    "* B. The Windy GridWorld problem: SARSA algorithm for estimation of the action value function and control \n",
    "* C. The Cliff Walking problem: Q-learning algorithm and comparison with SARSA\n",
    "\n",
    "The learning methods considered are based on backups which for dynamic programming, Monte Carlo, and temporal-difference learning can be represented as follows:\n",
    "\n",
    "<table><tr>\n",
    "<td> <img src=\"./graphs/dp.png\" alt=\"Drawing\" style=\"width: 250px;\"/> </td>\n",
    "<td> <img src=\"./graphs/mc.png\" alt=\"Drawing\" style=\"width: 250px;\"/> </td>\n",
    "<td> <img src=\"./graphs/td.png\" alt=\"Drawing\" style=\"width: 250px;\"/> </td>\n",
    "</tr></table>"
   ]
  },
  {
   "cell_type": "markdown",
   "id": "characteristic-gateway",
   "metadata": {},
   "source": [
    "### The environment \n",
    "\n",
    "<img src=\"./graphs/randomwalk.png\" width=\"800\"/>\n",
    "\n",
    "Reward is 1 if we move from E to S and 0 otherwise.\n",
    "\n",
    "We first define the environment. \n",
    "\n",
    "Following the style of OpenAI Gym, we write a class that contains a step function and a reset function:"
   ]
  },
  {
   "cell_type": "code",
   "execution_count": 1,
   "id": "speaking-layout",
   "metadata": {},
   "outputs": [],
   "source": [
    "import numpy as np\n",
    "import matplotlib.pyplot as plt\n",
    "np.random.seed(1)"
   ]
  },
  {
   "cell_type": "code",
   "execution_count": 2,
   "id": "conditional-vaccine",
   "metadata": {},
   "outputs": [],
   "source": [
    "# actions\n",
    "left = 0\n",
    "right = 1\n",
    "\n",
    "class RandomWalk:\n",
    "    def __init__(self, initial_state):\n",
    "        self.initial_state = initial_state\n",
    "        self.state = self.initial_state\n",
    "        self.reward = 0.0\n",
    "        self.is_terminal = False\n",
    "\n",
    "    # write step function that returns obs(next state), reward, is_done\n",
    "    def step(self, action):\n",
    "        if self.state == 5 and action == right:\n",
    "            self.state += 1\n",
    "            self.is_terminal = True\n",
    "            self.reward = 1.0\n",
    "        elif self.state == 1 and action == left:\n",
    "            self.state -= 1\n",
    "            self.is_terminal = True\n",
    "            self.reward = 0.0\n",
    "        else:\n",
    "            if action == left:\n",
    "                self.state -= 1\n",
    "                self.is_terminal = False\n",
    "                self.reward = 0.0\n",
    "\n",
    "            else:\n",
    "                self.state += 1\n",
    "                self.is_terminal = False\n",
    "                self.reward = 0.0\n",
    "\n",
    "        return self.state, self.reward, self.is_terminal\n",
    "\n",
    "    def reset(self):\n",
    "        self.state = self.initial_state\n",
    "        self.reward = 0.0\n",
    "        self.is_terminal = False\n",
    "        return self.state"
   ]
  },
  {
   "cell_type": "markdown",
   "id": "communist-petroleum",
   "metadata": {},
   "source": [
    "### Random policy \n",
    "A policy that takes a random action (0, 1):"
   ]
  },
  {
   "cell_type": "code",
   "execution_count": 3,
   "id": "industrial-underwear",
   "metadata": {},
   "outputs": [],
   "source": [
    "def random_policy():\n",
    "    return np.random.binomial(1, 0.5)"
   ]
  },
  {
   "cell_type": "markdown",
   "id": "revised-arizona",
   "metadata": {},
   "source": [
    "### The learning algorithm\n",
    "\n",
    "Our goal is to estimate the value function using the TD(0) algorithm, which was described in the lecture notes:\n",
    "\n",
    "<img src=\"./graphs/td_algo.png\" width=\"800\" height=\"450\">\n",
    "\n",
    "Implement the TD algorithm with step size = 0.1 and no discount:"
   ]
  },
  {
   "cell_type": "code",
   "execution_count": 4,
   "id": "banner-bristol",
   "metadata": {},
   "outputs": [],
   "source": [
    "def temporal_difference(value, next_value, r, alpha=0.1):\n",
    "    return value + alpha * (r + next_value - value)"
   ]
  },
  {
   "cell_type": "code",
   "execution_count": 5,
   "id": "australian-structure",
   "metadata": {},
   "outputs": [],
   "source": [
    "def plot_state_value(history, true_values):\n",
    "    plt.figure(1)\n",
    "    x = [1, 2, 3, 4, 5]\n",
    "    my_xticks = ['A', 'B', 'C', 'D', 'E']\n",
    "    plt.xticks(x, my_xticks)\n",
    "    episodes = [0, 1, 10, 100]\n",
    "    for i in range(len(history)):\n",
    "        if i in episodes:\n",
    "            plt.plot(x, history[i][1:6], 'o-', label=str(i)+' episode(s)')\n",
    "    plt.plot(x, true_values[1:6], label='true values')\n",
    "    plt.xlabel('state')\n",
    "    plt.ylabel('estimated value')\n",
    "    plt.legend()\n",
    "    plt.show()\n",
    "    \n",
    "true_values = np.zeros(7)  \n",
    "true_values[1:6] = np.arange(1, 6) / 6.0  \n",
    "true_values[6] = 0.  "
   ]
  },
  {
   "cell_type": "code",
   "execution_count": 6,
   "id": "exposed-simon",
   "metadata": {},
   "outputs": [
    {
     "data": {
      "image/png": "[encoded data removed]",
      "text/plain": [
       "<Figure size 432x288 with 1 Axes>"
      ]
     },
     "metadata": {
      "needs_background": "light"
     },
     "output_type": "display_data"
    }
   ],
   "source": [
    "values = np.zeros(7)  \n",
    "value_history = [np.copy(values)]  \n",
    "  \n",
    "initial_state = 3  \n",
    "env = RandomWalk(initial_state)\n",
    "  \n",
    "episodes = 100  \n",
    "  \n",
    "for i in range(1, episodes + 1):  \n",
    "    state = env.reset()  \n",
    "    done = False  \n",
    "  \n",
    "    while not done:  \n",
    "        a = random_policy()  \n",
    "        next_state, r, done = env.step(a)  \n",
    "        values[state] = temporal_difference(values[state], values[next_state], r)  \n",
    "        state = next_state  \n",
    "  \n",
    "    value_history.append(np.copy(values))  \n",
    "plot_state_value(value_history, true_values)"
   ]
  },
  {
   "cell_type": "markdown",
   "id": "timely-emission",
   "metadata": {},
   "source": [
    "## B. The Windy GridWorld problem\n",
    "\n",
    "The goal of this exercise is implement and evaluate SARSA algorithm for the Windy GridWorld problem which is defined as follows.\n",
    "\n",
    "The Windy GridWorld problem is described in **Example 6.5** in Sutton & Barto. \n",
    "![alt text](./graphs/windy_grid.png)\n",
    "\n",
    "The Windy Gridworld problem is a standard gridworld with a crosswind upward through the middle of the grid. The strength of the wind is indicated by the number below each column.  For example, if you are in the cell to the right of the goal, the action left will take you to the cell above the goal.  To be precise, the next cell you will end up in depends on the action taken and the wind in the current cell. \n",
    "- An undiscounted episodic task\n",
    "- Rewards of -1 until the goal is reached\n",
    "\n",
    "Similarly, define the variables and parameters as defined in the book,"
   ]
  },
  {
   "cell_type": "code",
   "execution_count": 7,
   "id": "apart-breathing",
   "metadata": {},
   "outputs": [],
   "source": [
    "world_height = 7\n",
    "world_width = 10\n",
    "wind_strength = [0, 0, 0, 1, 1, 1, 2, 2, 1, 0]\n",
    "\n",
    "# actions\n",
    "up = 0\n",
    "left = 1\n",
    "right = 2\n",
    "down = 3\n",
    "actions = [up, left, right, down]"
   ]
  },
  {
   "cell_type": "markdown",
   "id": "protective-nursery",
   "metadata": {},
   "source": [
    "### The environment\n",
    "A step function that returns next state, reward and is_done.  **Note** that the next state is the current state moved towards the current action direction + the wind direction of the **current** state."
   ]
  },
  {
   "cell_type": "code",
   "execution_count": 8,
   "id": "personalized-dayton",
   "metadata": {},
   "outputs": [],
   "source": [
    "class WindyGridworld:\n",
    "    def __init__(self, init_position, goal_position):\n",
    "        self.initial_state = init_position\n",
    "        self.goal_state = goal_position\n",
    "        self.state = self.initial_state\n",
    "        self.reward = 0.0\n",
    "        self.is_terminal = False\n",
    "\n",
    "    # return (next state, reward, is_done)\n",
    "    def step(self, action):\n",
    "        i, j = self.state\n",
    "\n",
    "        if self.state == self.goal_state:\n",
    "            self.reward = 0.0\n",
    "            self.is_terminal = True\n",
    "        else:\n",
    "            if action == up:\n",
    "                self.state = [max(i - 1 - wind_strength[j], 0), j]\n",
    "            elif action == left:\n",
    "                # the next state (j-1) is the action + the wind in the previous state (j)\n",
    "                self.state = [max(i - wind_strength[j], 0), max(j - 1, 0)]\n",
    "            elif action == right:\n",
    "                self.state = [max(i - wind_strength[j], 0), min(j + 1, world_width - 1)]\n",
    "            elif action == down:\n",
    "                self.state = [max(min(i + 1 - wind_strength[j], world_height - 1), 0), j]\n",
    "            else:\n",
    "                assert False, \"Actions should be in the range of (0, 4).\"\n",
    "            self.reward = -1.0\n",
    "            self.is_terminal = False\n",
    "\n",
    "        return self.state, self.reward, self.is_terminal\n",
    "\n",
    "    def reset(self):\n",
    "        self.state = self.initial_state\n",
    "        self.reward = 0.0\n",
    "        self.is_terminal = False\n",
    "        return self.state\n",
    "\n"
   ]
  },
  {
   "cell_type": "markdown",
   "id": "neither-medline",
   "metadata": {},
   "source": [
    "### The policy\n",
    "\n",
    "Implement an $\\varepsilon$-greedy policy"
   ]
  },
  {
   "cell_type": "code",
   "execution_count": 9,
   "id": "difficult-launch",
   "metadata": {},
   "outputs": [],
   "source": [
    "def epsilon_greedy_policy(q_values, epsilon=0.1):\n",
    "    if np.random.binomial(1, epsilon) == 1:\n",
    "        return np.random.choice(actions)\n",
    "    else:\n",
    "        return np.random.choice([action_ for action_, value_ in enumerate(q_values) if value_ == np.max(q_values)])"
   ]
  },
  {
   "cell_type": "markdown",
   "id": "happy-telescope",
   "metadata": {},
   "source": [
    "### The algorithm: \n",
    "<img src=\"./graphs/sarsa.png\" width=\"750\" height=\"100\">\n",
    "\n",
    "<img src=\"./graphs/sarsa_algo.png\" width=\"800\" height=\"450\">"
   ]
  },
  {
   "cell_type": "code",
   "execution_count": 10,
   "id": "sunrise-heater",
   "metadata": {},
   "outputs": [],
   "source": [
    "def sarsa(qsa, next_qsa, r, alpha=0.1, gamma=1.0):  \n",
    "    return qsa + alpha * (r + gamma * next_qsa - qsa)"
   ]
  },
  {
   "cell_type": "markdown",
   "id": "extended-animal",
   "metadata": {},
   "source": [
    "Solve the Windy GridWorld problem:"
   ]
  },
  {
   "cell_type": "code",
   "execution_count": 11,
   "id": "elementary-puzzle",
   "metadata": {},
   "outputs": [],
   "source": [
    "q_sa = np.zeros((world_height, world_width, len(actions)))  \n",
    "episodes = 200\n",
    "timesteps = []  \n",
    "  \n",
    "start_position = [3, 0]  \n",
    "terminal_position = [3, 7]  \n",
    "  \n",
    "env = WindyGridworld(start_position, terminal_position)  \n",
    "  \n",
    "for i in range(1, episodes + 1):  \n",
    "    state = env.reset() \n",
    "    is_done = False\n",
    "    row, col = state  \n",
    "    # initialise a  \n",
    "    a = epsilon_greedy_policy(q_sa[row, col, :])  \n",
    "    timesteps_per_epi = 1  \n",
    "  \n",
    "    while not is_done:  \n",
    "        next_state, r, is_done = env.step(a)  \n",
    "        row, col = state  \n",
    "        n_row, n_col = next_state  \n",
    "        \n",
    "        next_a = epsilon_greedy_policy(q_sa[n_row, n_col, :])  \n",
    "        q_sa[row, col, a] = sarsa(q_sa[row, col, a], q_sa[n_row, n_col, next_a], r)  \n",
    "  \n",
    "        state = next_state  \n",
    "        a = next_a  \n",
    "        timesteps_per_epi += 1  \n",
    "    timesteps.append(timesteps_per_epi)"
   ]
  },
  {
   "cell_type": "code",
   "execution_count": 12,
   "id": "personal-garden",
   "metadata": {},
   "outputs": [
    {
     "data": {
      "image/png": "[encoded data removed]",
      "text/plain": [
       "<Figure size 432x288 with 1 Axes>"
      ]
     },
     "metadata": {
      "needs_background": "light"
     },
     "output_type": "display_data"
    }
   ],
   "source": [
    "def plot_episode_steps(steps, episodes):\n",
    "    plt.plot(np.arange(1, episodes + 1), steps)\n",
    "    plt.title(\"Episodes vs Time Steps\")\n",
    "    plt.xlabel(\"Episode\")\n",
    "    plt.ylabel(\"Time Steps\")\n",
    "    plt.show()\n",
    "\n",
    "plot_episode_steps(timesteps, episodes)"
   ]
  },
  {
   "cell_type": "markdown",
   "id": "aggressive-quality",
   "metadata": {},
   "source": [
    "In this problem, the only way to terminate an episode is to reach the goal state. The curve shows that the number of time steps requires drastically decreases. \n",
    "\n",
    "**Note** that the policy is unable to converge to the optimal policy after 170 episodes. Let the number of episodes be 1000. \n",
    "By the end of 1000 episodes, we choose a greedy policy"
   ]
  },
  {
   "cell_type": "code",
   "execution_count": 13,
   "id": "bright-constraint",
   "metadata": {},
   "outputs": [
    {
     "name": "stdout",
     "output_type": "stream",
     "text": [
      "Optimal policy is:\n",
      "['D' 'R' 'U' 'R' 'U' 'R' 'R' 'R' 'R' 'D']\n",
      "['D' 'U' 'R' 'U' 'R' 'R' 'R' 'R' 'U' 'D']\n",
      "['R' 'R' 'R' 'R' 'R' 'R' 'R' 'D' 'R' 'D']\n",
      "['R' 'R' 'R' 'R' 'R' 'R' 'R' 'G' 'R' 'D']\n",
      "['R' 'R' 'R' 'R' 'R' 'R' 'U' 'D' 'L' 'L']\n",
      "['D' 'R' 'R' 'D' 'R' 'U' 'U' 'R' 'L' 'D']\n",
      "['R' 'R' 'R' 'U' 'U' 'U' 'U' 'U' 'L' 'U']\n",
      "['0' '0' '0' '1' '1' '1' '2' '2' '1' '0']\n"
     ]
    }
   ],
   "source": [
    "def print_optimal_policy(policy, terminal_position):\n",
    "    policy_display = np.empty_like(policy, dtype=str)\n",
    "    wind = np.empty_like(wind_strength, dtype=str)\n",
    "    for i in range(0, world_height):\n",
    "        for j in range(0, world_width):\n",
    "            wind[j] = str(wind_strength[j])\n",
    "            if [i, j] == terminal_position:\n",
    "                policy_display[i, j] = 'G'\n",
    "                continue\n",
    "            a = policy[i, j]\n",
    "            if a == up:\n",
    "                policy_display[i, j] = 'U'\n",
    "            elif a == left:\n",
    "                policy_display[i, j] = 'L'\n",
    "            elif a == right:\n",
    "                policy_display[i, j] = 'R'\n",
    "            elif a == down:\n",
    "                policy_display[i, j] = 'D'\n",
    "    print('Optimal policy is:')\n",
    "    for row in policy_display:\n",
    "        print(row)\n",
    "    print(wind)\n",
    "    \n",
    "episodes = 1000\n",
    "for i in range(1, episodes + 1):  \n",
    "    state = env.reset() \n",
    "    is_done = False\n",
    "    row, col = state  \n",
    "    # initialise a  \n",
    "    a = epsilon_greedy_policy(q_sa[row, col, :])  \n",
    "  \n",
    "    while not is_done:  \n",
    "        next_state, r, is_done = env.step(a)  \n",
    "        row, col = state  \n",
    "        n_row, n_col = next_state  \n",
    "        \n",
    "        next_a = epsilon_greedy_policy(q_sa[n_row, n_col, :])  \n",
    "        q_sa[row, col, a] = sarsa(q_sa[row, col, a], q_sa[n_row, n_col, next_a], r)  \n",
    "  \n",
    "        state = next_state  \n",
    "        a = next_a  \n",
    "\n",
    "optimal_policy = np.argmax(q_sa, axis=2)\n",
    "print_optimal_policy(optimal_policy, terminal_position)"
   ]
  },
  {
   "cell_type": "markdown",
   "id": "appointed-aspect",
   "metadata": {},
   "source": [
    "# C. The Cliff Walking problem\n",
    "\n",
    "In this exercise, our goal is to implement and evaluate Q-learning algorithm for the Cliff Walking problem, and compare with SARSA.\n",
    "\n",
    "The Cliff Walking problem is described in **Example 6.6** in Sutton & Barto.\n",
    " ![alt text](./graphs/cliff_walking.png)\n",
    "- This is a standard undiscounted and episodic gridworld problem with starting and goal states\n",
    "- Rewards of -1 for each move\n",
    "- Stepping into the region marked \"The Cliff\" incurs a reward of -100 and sends the agent instantly back to the start state\n",
    "\n",
    "The purpose of this example is to compare SARSA and Q-learning, highlighting the difference between on-policy (sarsa) and off-policy (Q-learning) methods. "
   ]
  },
  {
   "cell_type": "markdown",
   "id": "filled-shepherd",
   "metadata": {},
   "source": [
    "### The environment"
   ]
  },
  {
   "cell_type": "code",
   "execution_count": 14,
   "id": "korean-federal",
   "metadata": {},
   "outputs": [],
   "source": [
    "class CliffWalking:\n",
    "    def __init__(self, initial_state, goal_state):\n",
    "        self.initial_state = initial_state\n",
    "        self.goal_state = goal_state\n",
    "        self.state = self.initial_state\n",
    "        self.reward = 0.0\n",
    "        self.is_terminal = False\n",
    "\n",
    "    def is_cliff(self):\n",
    "        cliff = np.zeros((world_height, world_width), dtype=bool)\n",
    "        cliff[3, 1: -1] = True\n",
    "        return cliff[tuple(self.state)]\n",
    "\n",
    "    # return next_state, reward, done\n",
    "    def step(self, action):\n",
    "        i, j = self.state\n",
    "\n",
    "        if action == up:\n",
    "            self.state = [max(i - 1, 0), j]\n",
    "        elif action == left:\n",
    "            self.state = [i, max(j - 1, 0)]\n",
    "        elif action == right:\n",
    "            self.state = [i, min(j + 1, world_width - 1)]\n",
    "        elif action == down:\n",
    "            self.state = [min(i + 1, world_height - 1), j]\n",
    "        else:\n",
    "            assert False, \"Actions should be in the range of (0, 4)\"\n",
    "\n",
    "        if self.is_cliff():\n",
    "            self.state = self.initial_state\n",
    "            self.reward = -100.0\n",
    "            self.is_terminal = False\n",
    "        elif self.state == self.goal_state:\n",
    "            self.state = self.state\n",
    "            self.reward = 0.0\n",
    "            self.is_terminal = True\n",
    "        else:\n",
    "            self.reward = -1.0\n",
    "            self.is_terminal = False\n",
    "        return self.state, self.reward, self.is_terminal\n",
    "\n",
    "    def reset(self):\n",
    "        self.state = self.initial_state\n",
    "        self.reward = 0.0\n",
    "        self.is_terminal = False\n",
    "        return self.state\n",
    "\n"
   ]
  },
  {
   "cell_type": "markdown",
   "id": "loose-element",
   "metadata": {},
   "source": [
    "A helper function to check if the current state is in the region of cliff,"
   ]
  },
  {
   "cell_type": "code",
   "execution_count": 15,
   "id": "through-journalist",
   "metadata": {},
   "outputs": [],
   "source": [
    "def is_cliff(self):  \n",
    "    cliff = np.zeros((world_height, world_width), dtype=np.bool)  \n",
    "    cliff[3, 1: -1] = True  \n",
    "    return cliff[tuple(self.state)]"
   ]
  },
  {
   "cell_type": "markdown",
   "id": "wired-mandate",
   "metadata": {},
   "source": [
    "### The Q-learning algorithm\n",
    "\n",
    "<img src=\"./graphs/q_learning_algo.png\" width=\"750\" height=\"450\">"
   ]
  },
  {
   "cell_type": "markdown",
   "id": "typical-exemption",
   "metadata": {},
   "source": [
    "Note that you need to pass all the state-action pairs of the next state,\n"
   ]
  },
  {
   "cell_type": "code",
   "execution_count": 16,
   "id": "hindu-running",
   "metadata": {},
   "outputs": [],
   "source": [
    "def eps_greedy_policy(qsa, epsilon=0.1):\n",
    "    if np.random.binomial(1, epsilon) == 1:\n",
    "        return np.random.choice(actions)\n",
    "    else:\n",
    "        return np.random.choice([action_ for action_, value_ in enumerate(qsa) if value_ == np.max(qsa)])\n",
    "\n",
    "def sarsa(qsa, next_qsa, r, alpha=0.1, gamma=1.0):\n",
    "    return qsa + alpha * (r + gamma * next_qsa - qsa)\n",
    "\n",
    "def q_learning(qsa, next_qs, r, alpha=0.1, gamma=1.0):  \n",
    "    return qsa + alpha * (r + gamma * np.max(next_qs) - qsa)"
   ]
  },
  {
   "cell_type": "markdown",
   "id": "endangered-antibody",
   "metadata": {},
   "source": [
    "It is impossible to produce a smooth reward curve after a single run. We therefore take multiple runs and take the average of the rewards per episode over 500 episodes in total. "
   ]
  },
  {
   "cell_type": "code",
   "execution_count": 17,
   "id": "legal-duncan",
   "metadata": {},
   "outputs": [],
   "source": [
    "start_position = [3, 0]  \n",
    "goal = [3, 11]\n",
    "world_width = 12\n",
    "world_height = 4 \n",
    "# actions\n",
    "up = 0\n",
    "left = 1\n",
    "right = 2\n",
    "down = 3\n",
    "actions = [up, left, right, down]"
   ]
  },
  {
   "cell_type": "code",
   "execution_count": 18,
   "id": "nervous-austin",
   "metadata": {},
   "outputs": [],
   "source": [
    "import numpy as np\n",
    "env_sarsa = CliffWalking(start_position, goal)\n",
    "env_q_learning = CliffWalking(start_position, goal)\n",
    "env_double_q_learning = CliffWalking(start_position, goal)\n",
    "\n",
    "runs = 10\n",
    "episodes = 500\n",
    "rewards_sarsa = np.zeros(episodes)\n",
    "rewards_qlearning = np.zeros_like(rewards_sarsa)\n",
    "\n",
    "# Create two instances of the environments for comparison\n",
    "env_sarsa = CliffWalking(start_position, goal)\n",
    "env_q_learning = CliffWalking(start_position, goal)\n",
    "\n",
    "for r in range(runs):\n",
    "    q_sarsa = np.zeros((world_height, world_width, len(actions)))\n",
    "    q_qlearning = np.zeros_like(q_sarsa)\n",
    "\n",
    "    for i in range(episodes):\n",
    "        state_sarsa = env_sarsa.reset()\n",
    "        state_q = env_q_learning.reset()\n",
    "\n",
    "        done_sarsa = False\n",
    "        done_q = False\n",
    "\n",
    "        # choose an action based on current state\n",
    "        row, col = state_sarsa\n",
    "        a_sarsa = eps_greedy_policy(q_sarsa[row, col, :])\n",
    "        g_sarsa = 0.0\n",
    "        g_q = 0.0\n",
    "        \n",
    "        #Sarsa\n",
    "        while not done_sarsa:\n",
    "            next_state_sarsa, r_sarsa, done_sarsa = env_sarsa.step(a_sarsa)\n",
    "        \n",
    "            # choose an action for the next state\n",
    "            row, col = state_sarsa\n",
    "            n_row, n_col = next_state_sarsa\n",
    "            next_a_sarsa = eps_greedy_policy(q_sarsa[n_row, n_col, :])\n",
    "            g_sarsa += r_sarsa\n",
    "            # sarsa updates\n",
    "            q_sarsa[row, col, a_sarsa] = sarsa(q_sarsa[row, col, a_sarsa], q_sarsa[n_row, n_col, next_a_sarsa], r_sarsa)\n",
    "\n",
    "            state_sarsa = next_state_sarsa\n",
    "            a_sarsa = next_a_sarsa\n",
    "            \n",
    "        #Q-Learning\n",
    "        while not done_q:\n",
    "            row_q, col_q = state_q\n",
    "            a_q = eps_greedy_policy(q_qlearning[row_q, col_q, :])\n",
    "            next_state_q, r_q, done_q = env_q_learning.step(a_q)\n",
    "            g_q += r_q\n",
    "\n",
    "            # Q-learning updates, note the second argument\n",
    "            n_row_q, n_col_q = next_state_q\n",
    "            q_qlearning[row_q, col_q, a_q] = q_learning(q_qlearning[row_q, col_q, a_q],\n",
    "                                                        q_qlearning[n_row_q, n_col_q, :], r_q)\n",
    "            state_q= next_state_q\n",
    "            \n",
    "        rewards_sarsa[i] += g_sarsa\n",
    "        rewards_qlearning[i] += g_q"
   ]
  },
  {
   "cell_type": "markdown",
   "id": "declared-timer",
   "metadata": {},
   "source": [
    "The comparison of the methods:"
   ]
  },
  {
   "cell_type": "code",
   "execution_count": 19,
   "id": "falling-consideration",
   "metadata": {},
   "outputs": [
    {
     "data": {
      "image/png": "[encoded data removed]",
      "text/plain": [
       "<Figure size 432x288 with 1 Axes>"
      ]
     },
     "metadata": {
      "needs_background": "light"
     },
     "output_type": "display_data"
    }
   ],
   "source": [
    "import matplotlib.pyplot as plt\n",
    "def plot_rewards(plots):\n",
    "    plt.figure()\n",
    "    for plot in plots:\n",
    "        method, method_title = plot\n",
    "        plt.plot(method, label=method_title)\n",
    "    # plt.plot(r_qlearning, label='Q-learning')\n",
    "    plt.xlabel('Episodes')\n",
    "    plt.ylabel('Sum of rewards during episodes')\n",
    "    plt.ylim([-100, 0])\n",
    "    plt.legend()\n",
    "    plt.show()\n",
    "\n",
    "\n",
    "rewards_sarsa /= runs\n",
    "rewards_qlearning /= runs\n",
    "\n",
    "plot_rewards([[rewards_sarsa, 'Sarsa'], [rewards_qlearning, 'Q-learning']])\n",
    "#[rewards_double_qlearning, 'Double-Q-learning']])"
   ]
  },
  {
   "cell_type": "markdown",
   "id": "2dab0dbd",
   "metadata": {},
   "source": [
    "The worse performance of Q-learning method is due to the $\\varepsilon$-greedy policy which results in the agent's occasionally falling off the cliff when the method takes the optimal rather than safer path."
   ]
  },
  {
   "cell_type": "code",
   "execution_count": 20,
   "id": "354b4ef4",
   "metadata": {},
   "outputs": [
    {
     "name": "stdout",
     "output_type": "stream",
     "text": [
      "SARSA Optimal policy is:\n",
      "['R' 'R' 'R' 'R' 'R' 'R' 'R' 'R' 'R' 'R' 'D' 'D']\n",
      "['R' 'R' 'R' 'R' 'R' 'R' 'R' 'R' 'R' 'R' 'R' 'D']\n",
      "['U' 'U' 'U' 'L' 'U' 'R' 'R' 'R' 'R' 'R' 'R' 'D']\n",
      "['U' 'C' 'C' 'C' 'C' 'C' 'C' 'C' 'C' 'C' 'C' 'G']\n",
      "Q-Learning Optimal policy is:\n",
      "['L' 'R' 'U' 'U' 'D' 'R' 'R' 'R' 'R' 'R' 'R' 'D']\n",
      "['L' 'U' 'U' 'R' 'R' 'U' 'D' 'R' 'R' 'D' 'D' 'D']\n",
      "['R' 'R' 'R' 'R' 'R' 'R' 'R' 'R' 'R' 'R' 'R' 'D']\n",
      "['U' 'C' 'C' 'C' 'C' 'C' 'C' 'C' 'C' 'C' 'C' 'G']\n"
     ]
    }
   ],
   "source": [
    "def print_optimal_policy(policy, method):\n",
    "    policy_display = np.empty_like(policy, dtype=str)\n",
    "    for i in range(0, world_height):\n",
    "        for j in range(0, world_width):\n",
    "            if [i, j] == [3, 11]:\n",
    "                policy_display[i, j] = 'G'\n",
    "                continue\n",
    "            if i == 3 and j in np.arange(1,11): \n",
    "                policy_display[i, j] = 'C'\n",
    "                continue\n",
    "            a = policy[i, j]\n",
    "            if a == up:\n",
    "                policy_display[i, j] = 'U'\n",
    "            elif a == left:\n",
    "                policy_display[i, j] = 'L'\n",
    "            elif a == right:\n",
    "                policy_display[i, j] = 'R'\n",
    "            elif a == down:\n",
    "                policy_display[i, j] = 'D'\n",
    "    print(method + ' Optimal policy is:')\n",
    "    for row in policy_display:\n",
    "        print(row)\n",
    "\n",
    "optimal_policy = np.argmax(q_sarsa, axis=2)\n",
    "print_optimal_policy(optimal_policy, 'SARSA')\n",
    "\n",
    "optimal_policy = np.argmax(q_qlearning, axis=2)\n",
    "print_optimal_policy(optimal_policy, 'Q-Learning')"
   ]
  },
  {
   "cell_type": "markdown",
   "id": "93e88a0b",
   "metadata": {},
   "source": [
    "Notice that SARSA identifies a safer path (the optimal path is not optimal here due to that the $\\varepsilon$-greedy policy, which might force the agent to fall into the cliff when walking along the optimal path, yielding a low value)"
   ]
  }
 ],
 "metadata": {
  "kernelspec": {
   "display_name": "Python 3 (ipykernel)",
   "language": "python",
   "name": "python3"
  },
  "language_info": {
   "codemirror_mode": {
    "name": "ipython",
    "version": 3
   },
   "file_extension": ".py",
   "mimetype": "text/x-python",
   "name": "python",
   "nbconvert_exporter": "python",
   "pygments_lexer": "ipython3",
   "version": "3.9.7"
  }
 },
 "nbformat": 4,
 "nbformat_minor": 5
}
