{
 "cells": [
  {
   "cell_type": "markdown",
   "id": "acoustic-lighter",
   "metadata": {},
   "source": [
    "# LSE ST455: Reinforcement Learning\n",
    "\n",
    "## Seminar 8: Deep Q Networks Methods\n"
   ]
  },
  {
   "cell_type": "markdown",
   "id": "2d012def",
   "metadata": {},
   "source": [
    "You will need to install `tensorflow` to run this notebook locally. Please try `pip install tensorflow`. If `tensorflow` does not support your computer, you may run this notebook remotely on Google colab with this [link](https://colab.research.google.com/drive/1zzfRoBW5pEXcdqSsRLJvTPigZ4rnVOJj#scrollTo=Ved3WSriENha) "
   ]
  },
  {
   "cell_type": "code",
   "execution_count": 1,
   "id": "above-brother",
   "metadata": {},
   "outputs": [
    {
     "name": "stdout",
     "output_type": "stream",
     "text": [
      "Collecting pygame\n",
      "  Downloading pygame-2.1.2-cp39-cp39-macosx_10_9_x86_64.whl (8.9 MB)\n",
      "\u001b[K     |████████████████████████████████| 8.9 MB 1.5 MB/s eta 0:00:01\n",
      "\u001b[?25hInstalling collected packages: pygame\n",
      "Successfully installed pygame-2.1.2\n"
     ]
    }
   ],
   "source": [
    "!pip install pygame"
   ]
  },
  {
   "cell_type": "markdown",
   "id": "talented-connecticut",
   "metadata": {},
   "source": [
    "# Deep Q-Networks (DQN)\n",
    "\n",
    "![](graphs/dqn_benchmarks.png)\n",
    "\n",
    "\n",
    "This exercise aims to replicate the results from the paper [Human-level control through deep reinforcement learning](https://www.nature.com/articles/nature14236) published in Nature. This paper develops a DQN that can learn successful policy directly from high-dimensional inputs using end-to-end reinforcement learning.\n",
    "\n",
    "We will implement the algorithm and test it on the Atari game Breakout. Note that as training for Breakout takes many hours we will not be able to analyze the results in class. Nonetheless, the code can be found in ```dqn_breakout_slow.py``` for reference.\n",
    "\n",
    "### Basic ideas of DQN\n",
    "\n",
    "The $Q$ function for Deep Q-Networks is approximated by a neural network architecture\n",
    "\n",
    "![](graphs/neural_network.png)\n",
    "\n",
    "#### Experience replay via minibatches\n",
    "\n",
    "Recall that past state-action-reward tuples are stored in a memory. Random samples are collected to form minibatches on which the parameter updates (e.g. via Stochastic Gradient Descent) are computed. The size of the minibatches trades of a strong variance (too few samples) and computational cost (too many samples)\n",
    "\n",
    "<img src=\"graphs/minibatch.png\" alt=\"Drawing\" style=\"width: 750px;\"/>\n",
    "<img src=\"graphs/experience_replay.png\" alt=\"Drawing\" style=\"width: 750px;\"/>\n",
    "\n",
    "#### Using two cloned networks - Policy and Target Networks\n",
    "\n",
    "![](graphs/target_network.png)\n",
    "\n",
    "A source that may cause instability is the correlation between the estimates of the action-value function and the target. \n",
    "For example, the DQN loss function at iteration $t$ is defined as\n",
    "\n",
    "$$\\mathcal{L}_t(\\theta_t)=\\mathbb{E}_{(s,a,r,s'){\\sim}U(D)}[(r+{\\gamma}\\max_{a'}\\hat{Q}(s',a';\\theta_t)-\\hat{Q}(s,a;\\theta_t))^2]$$\n",
    "\n",
    "where $r+{\\gamma}\\max_{a'}\\hat{Q}(s',a';\\theta_t)$ is the Q-learning target. \n",
    "In DQN, both $Q(s',a';\\theta_t)$ that estimates the Q-learning target and \n",
    "$Q(s,a;\\theta_t)$ that generates actions are parametrised using convolutional neural \n",
    "networks where $\\theta$ are the network parameters. \n",
    "The network that estimates the Q-learning target is usually called *target network* and the one that generates actions is called *policy network*. \n",
    "\n",
    "DQN stabilies learning by freezing the target network, i.e., \n",
    "\n",
    "$$\\mathcal{L}_t(\\theta_t)=\\mathbb{E}_{(s,a,r,s'){\\sim}U(D)}[(r+{\\gamma}\\max_{a'}\\hat{Q}(s',a';\\theta_t^{-})-\\hat{Q}(s,a;\\theta_t))^2].$$\n",
    "\n",
    "During training, the policy network parameters $\\theta_t$ \n",
    "are updated per time step, while the target network parameters $\\theta_t^{-}$ are only updated every $N$ steps. \n",
    "\n",
    "\n"
   ]
  },
  {
   "cell_type": "markdown",
   "id": "attended-village",
   "metadata": {},
   "source": [
    "### Breakout - Frame-skipping\n",
    "\n",
    "![](graphs/atari_breakout.gif)\n",
    "\n",
    "![](./graphs/breakout_screenshots.png)\n",
    "\n",
    "These are 30 consecutive frames extracted from the game. If you execute an action in each frame, then there's **no** frame skipping.\n",
    "\n",
    "In the **Methods** section of the paper, it is said:\n",
    "\n",
    ">… the agent sees and selects actions on every kth frame instead of every frame, and its last action is repeated on skipped frames. … We use k = 4 for all games except Space Invaders where we noticed that using k = 4 makes the lasers invisible because of the period at which they blink. We used k = 3 to make the lasers visible …\n",
    "\n",
    "When k = 4, the skipped frames are indicted with an \"X\" as below:\n",
    "\n",
    "![](./graphs/breakout_subsampled.png)\n",
    "\n",
    "In a preprocessing step, image data gets scaled down etc. As the algorithm runs too slowly (10 hours - few days depending on hardware) we leave out the further description and refer to the implementation in ```dqn_breakout_slow.py```."
   ]
  },
  {
   "cell_type": "markdown",
   "id": "moral-johnson",
   "metadata": {},
   "source": [
    "### Lunar Lander\n",
    "\n",
    "> The landing pad is always at coordinates (0,0). The coordinates are the first two numbers in the state vector.\n",
    "Reward for moving from the top of the screen to the landing pad and zero speed is about 100..140 points.\n",
    "If the lander moves away from the landing pad it loses reward. The episode finishes if the lander crashes or\n",
    "comes to rest, receiving an additional -100 or +100 points. Each leg with ground contact is +10 points.\n",
    "Firing the main engine is -0.3 points each frame. Firing the side engine is -0.03 points each frame.\n",
    "Solved is 200 points.\n",
    "Landing outside the landing pad is possible. Fuel is infinite, so an agent can learn to fly and then land\n",
    "on its first attempt. Please see the [source code](https://github.com/openai/gym/blob/master/gym/envs/box2d/lunar_lander.py) for details.\n",
    "\n",
    "<img src=\"graphs/lunar_lander.png\" alt=\"Drawing\" style=\"width: 500px;\"/>"
   ]
  },
  {
   "cell_type": "code",
   "execution_count": 2,
   "id": "authorized-valve",
   "metadata": {},
   "outputs": [
    {
     "name": "stderr",
     "output_type": "stream",
     "text": [
      "WARNING: Logging before flag parsing goes to stderr.\n",
      "W0308 13:43:22.433171 4472704512 deprecation.py:330] From /usr/local/lib/python3.9/site-packages/tensorflow/python/compat/v2_compat.py:96: disable_resource_variables (from tensorflow.python.ops.variable_scope) is deprecated and will be removed in a future version.\n",
      "Instructions for updating:\n",
      "non-resource variables are not supported in the long term\n"
     ]
    }
   ],
   "source": [
    "import numpy as np\n",
    "import gym\n",
    "\n",
    "import tensorflow.compat.v1 as tf\n",
    "from tensorflow.keras import Sequential\n",
    "from tensorflow.keras import models \n",
    "from tensorflow.keras.layers import Dense \n",
    "from tensorflow.keras.optimizers import Adam\n",
    "\n",
    "import matplotlib.pyplot as plt\n",
    "import random\n",
    "from collections import deque\n",
    "\n",
    "tf.disable_v2_behavior() "
   ]
  },
  {
   "cell_type": "markdown",
   "id": "93c84996",
   "metadata": {},
   "source": [
    "Notice that we use [`deque`](https://www.geeksforgeeks.org/deque-in-python/) here to store the data. `deque` is very similar to `list`. It is preferred over a `list` in the cases where we need quicker append and pop operations from both the ends of the container, as deque provides an O(1) time complexity for append and pop operations as compared to list which provides O(n) time complexity.  "
   ]
  },
  {
   "cell_type": "markdown",
   "id": "rational-dubai",
   "metadata": {},
   "source": [
    "Next, we define a few parameters. Again the tradeoff is between performance and running time. The current parameters solve the environment and training runs for about 2 hours."
   ]
  },
  {
   "cell_type": "code",
   "execution_count": 3,
   "id": "empirical-friday",
   "metadata": {},
   "outputs": [],
   "source": [
    "NUM_EPISODES = 500\n",
    "DEQUE_MAX_LENGTH = 1000000\n",
    "LEARNING_RATE = 0.0001\n",
    "UNITS_PER_LAYER = 128\n",
    "BATCH_SIZE = 64"
   ]
  },
  {
   "cell_type": "markdown",
   "id": "historical-hunger",
   "metadata": {},
   "source": [
    "The agent implements the DQN learning presented above. It contains two networks (policy and target network). The networks are clones, built with [Keras](https://keras.io). Further experience replay is implemented."
   ]
  },
  {
   "cell_type": "code",
   "execution_count": 4,
   "id": "intimate-bidder",
   "metadata": {},
   "outputs": [],
   "source": [
    "class Agent:\n",
    "    def __init__(self, env, optimizer, batch_size):\n",
    "        # general info\n",
    "        self._state_size = env.observation_space.shape[0] # number of factors in the state; e.g: velocity, position, etc\n",
    "        self._action_size = env.action_space.n\n",
    "        self._optimizer = optimizer\n",
    "        self._batch_size = batch_size\n",
    "        \n",
    "        # allow large replay exp space\n",
    "        self._experience = deque(maxlen=DEQUE_MAX_LENGTH)\n",
    "        \n",
    "        self._gamma = 0.99\n",
    "        # initialize with high exploration, which will decay later\n",
    "        self._epsilon = 1.0 \n",
    "        \n",
    "        # Build Q Network\n",
    "        self._policy_network = Sequential()\n",
    "        self._policy_network.add(Dense(UNITS_PER_LAYER, input_dim = self._state_size, activation = \"relu\"))\n",
    "        self._policy_network.add(Dense(UNITS_PER_LAYER, activation = \"relu\"))\n",
    "        self._policy_network.add(Dense(self._action_size, activation = \"linear\"))\n",
    "        \n",
    "        # Compile Q Network, specify e.g., the loss function, the optimizer\n",
    "        self._policy_network.compile(loss = \"mse\", optimizer = self._optimizer)\n",
    "        \n",
    "        \n",
    "        # Build Target Network - Build clone of Q Network\n",
    "        self._target_network = models.clone_model(self._policy_network)\n",
    "        \n",
    "        # Compile Target Network\n",
    "        self._target_network.compile(loss = \"mse\", optimizer = self._optimizer)\n",
    "        \n",
    "        self.update_target_network()\n",
    "    \n",
    "    # add new experience to the replay exp\n",
    "    def memorize_experience(self, state, action, reward, next_state, done):\n",
    "        self._experience.append((state, action, reward, next_state, done))\n",
    "    \n",
    "    def update_target_network(self):\n",
    "        return self._target_network.set_weights(self._policy_network.get_weights())\n",
    "    \n",
    "    def choose_action(self, state):\n",
    "        if np.random.rand() < self._epsilon: # exploration\n",
    "            action = np.random.choice(self._action_size)\n",
    "        else:\n",
    "            state = np.reshape(state, [1, state_size])\n",
    "            qhat = self._policy_network.predict(state) # output Q(s,a) for all a of current state\n",
    "            action = np.argmax(qhat[0]) # because the output is m * n, so we need to consider the dimension [0]\n",
    "            \n",
    "        return action\n",
    "     \n",
    "    # update params in Neural Network\n",
    "    def experience_replay(self):\n",
    "\n",
    "        # take a mini-batch from replay experience\n",
    "        cur_batch_size = min(len(self._experience), self._batch_size)\n",
    "        mini_batch = random.sample(self._experience, cur_batch_size)\n",
    "        \n",
    "        # batch data\n",
    "        sample_states = np.ndarray(shape = (cur_batch_size, self._state_size)) # replace 128 with cur_batch_size\n",
    "        sample_actions = np.ndarray(shape = (cur_batch_size, 1))\n",
    "        sample_rewards = np.ndarray(shape = (cur_batch_size, 1))\n",
    "        sample_next_states = np.ndarray(shape = (cur_batch_size, self._state_size))\n",
    "        sample_dones = np.ndarray(shape = (cur_batch_size, 1))\n",
    "\n",
    " \n",
    "        for idx, exp in enumerate(mini_batch):\n",
    "            sample_states[idx], sample_actions[idx], sample_rewards[idx], sample_next_states[idx], sample_dones[idx]  = exp\n",
    "        \n",
    "         \n",
    "        sample_qhat_next = self._target_network.predict(sample_next_states)\n",
    "        \n",
    "        # set all Q values terminal states to 0\n",
    "        sample_qhat_next = sample_qhat_next * (np.ones(shape = sample_dones.shape) - sample_dones)\n",
    "        # choose max action for each state\n",
    "        sample_qhat_next = np.max(sample_qhat_next, axis=1)\n",
    "        \n",
    "        sample_qhat = self._policy_network.predict(sample_states)\n",
    "        \n",
    "        for i in range(cur_batch_size):\n",
    "            a = sample_actions[i,0]\n",
    "            sample_qhat[i,int(a)] = sample_rewards[i] + self._gamma * sample_qhat_next[i]\n",
    "            \n",
    "        q_target = sample_qhat\n",
    "            \n",
    "        self._policy_network.fit(sample_states, q_target, epochs = 1, verbose = 0)\n",
    " "
   ]
  },
  {
   "cell_type": "markdown",
   "id": "smooth-judge",
   "metadata": {},
   "source": [
    "The algorithm now runs for the specified number of episodes and updates the parameters in policy (target) network using experience replay "
   ]
  },
  {
   "cell_type": "code",
   "execution_count": 6,
   "id": "composed-university",
   "metadata": {
    "scrolled": true
   },
   "outputs": [
    {
     "name": "stderr",
     "output_type": "stream",
     "text": [
      "/usr/local/lib/python3.9/site-packages/tensorflow/python/keras/engine/training.py:2429: UserWarning: `Model.state_updates` will be removed in a future version. This property should not be used in TensorFlow 2.0, as `updates` are applied automatically.\n",
      "  warnings.warn('`Model.state_updates` will be removed in a future version. '\n"
     ]
    },
    {
     "name": "stdout",
     "output_type": "stream",
     "text": [
      "Episode 0, Reward: -339.12829995966763\n",
      "Episode 10, Reward: -84.30356797545097\n",
      "Episode 20, Reward: -189.68910442349744\n",
      "Episode 30, Reward: -132.52574923322783\n",
      "Episode 40, Reward: -4.103808787565512\n",
      "Episode 50, Reward: -211.53778094711174\n",
      "Episode 60, Reward: -65.6879290785064\n",
      "Episode 70, Reward: -74.73983217754675\n",
      "Episode 80, Reward: -71.91820819881549\n",
      "Episode 90, Reward: -11.525383948212337\n",
      "Episode 100, Reward: -44.478206238944864\n",
      "Episode 110, Reward: -31.95247900284967\n",
      "Episode 120, Reward: -89.39369573631328\n",
      "Episode 130, Reward: 82.01162372450483\n",
      "Episode 140, Reward: -45.96437110784359\n",
      "Episode 150, Reward: -75.2914007295113\n",
      "Episode 160, Reward: -39.48625202835886\n",
      "Episode 170, Reward: 16.034257896309583\n",
      "Episode 180, Reward: -132.11176756013543\n",
      "Episode 190, Reward: 86.83926084147062\n",
      "Episode 200, Reward: 64.18869858265818\n",
      "Episode 210, Reward: 38.577219037344975\n",
      "Episode 220, Reward: 47.88183077113806\n",
      "Episode 230, Reward: -202.35662831959954\n",
      "Episode 240, Reward: -115.18386534477119\n",
      "Episode 250, Reward: -71.65495179049594\n",
      "Episode 260, Reward: 54.70690873805363\n",
      "Episode 270, Reward: -108.23372503349005\n",
      "Episode 280, Reward: -90.37025572746249\n",
      "Episode 290, Reward: -120.94429210091506\n",
      "Episode 300, Reward: -91.65889182055643\n",
      "Episode 310, Reward: -67.01441790515292\n",
      "Episode 320, Reward: -100.76832076474751\n",
      "Episode 330, Reward: -7.1759118264221895\n",
      "Episode 340, Reward: -49.630044623801425\n",
      "Episode 350, Reward: -9.319192707582866\n",
      "Episode 360, Reward: -34.210002530270266\n",
      "Episode 370, Reward: 151.9222525199934\n",
      "Episode 380, Reward: 47.17347187727884\n",
      "Episode 390, Reward: 43.49378492038172\n",
      "Episode 400, Reward: 150.18009868631324\n",
      "Episode 410, Reward: 212.3558894235309\n",
      "Episode 420, Reward: 159.01582690121393\n",
      "Episode 430, Reward: 248.83388180660907\n",
      "Episode 440, Reward: 212.07734514010548\n",
      "Episode 450, Reward: 223.31461148830238\n",
      "Episode 460, Reward: 202.74519786241228\n",
      "Episode 470, Reward: 212.556014199515\n",
      "Episode 480, Reward: 255.1777673641088\n",
      "Episode 490, Reward: 224.42869758031858\n"
     ]
    }
   ],
   "source": [
    "env = gym.make(\"LunarLander-v2\")\n",
    "optimizer = Adam(learning_rate = LEARNING_RATE)\n",
    "\n",
    "agent = Agent(env, optimizer, batch_size = BATCH_SIZE)\n",
    "state_size = env.observation_space.shape[0]\n",
    "\n",
    "timestep=0\n",
    "rewards = []\n",
    "\n",
    "for episode in range(NUM_EPISODES):\n",
    "    render_env = episode % 10 == 0\n",
    "    state = env.reset()\n",
    "    total_reward = 0\n",
    "    done = False\n",
    "    \n",
    "    while not done:\n",
    "        action = agent.choose_action(state)\n",
    "        next_state, reward, done, info = env.step(action)\n",
    "        \n",
    "        if render_env:\n",
    "            env.render()\n",
    "\n",
    "        total_reward += reward\n",
    "        \n",
    "        agent.memorize_experience(state, action, reward, next_state, done)\n",
    "        agent.experience_replay()\n",
    "        \n",
    "        state = next_state\n",
    "        timestep += 1\n",
    "        \n",
    "    rewards.append(total_reward)\n",
    "        \n",
    "    # update target network each episode\n",
    "    agent.update_target_network()\n",
    "\n",
    "    # decaying exploration\n",
    "    agent._epsilon = max(0.1, 0.995 * agent._epsilon) \n",
    "\n",
    "    if render_env:\n",
    "        print(f\"Episode {episode}, Reward: {total_reward}\")"
   ]
  },
  {
   "cell_type": "markdown",
   "id": "continued-better",
   "metadata": {},
   "source": [
    "### Plot learning curve"
   ]
  },
  {
   "cell_type": "code",
   "execution_count": 7,
   "id": "joint-fields",
   "metadata": {
    "scrolled": false
   },
   "outputs": [
    {
     "data": {
      "image/png": "[encoded data removed]",
      "text/plain": [
       "<Figure size 432x288 with 1 Axes>"
      ]
     },
     "metadata": {
      "needs_background": "light"
     },
     "output_type": "display_data"
    }
   ],
   "source": [
    "plt.title(\"Rewards\")\n",
    "plt.xlabel(\"Episode\")\n",
    "plt.ylabel(\"Reward\")\n",
    "plt.plot(rewards)\n",
    "plt.show()"
   ]
  }
 ],
 "metadata": {
  "kernelspec": {
   "display_name": "Python 3 (ipykernel)",
   "language": "python",
   "name": "python3"
  },
  "language_info": {
   "codemirror_mode": {
    "name": "ipython",
    "version": 3
   },
   "file_extension": ".py",
   "mimetype": "text/x-python",
   "name": "python",
   "nbconvert_exporter": "python",
   "pygments_lexer": "ipython3",
   "version": "3.9.12"
  }
 },
 "nbformat": 4,
 "nbformat_minor": 5
}
