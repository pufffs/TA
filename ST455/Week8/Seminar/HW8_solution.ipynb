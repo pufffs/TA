{
 "cells": [
  {
   "cell_type": "markdown",
   "id": "61150599",
   "metadata": {},
   "source": [
    "## Solution to HW8"
   ]
  },
  {
   "cell_type": "markdown",
   "id": "ae69a3e6",
   "metadata": {},
   "source": [
    "Consider the following example with 7 states: \n",
    "\n",
    "F - A - B - C - D - E - S\n",
    "\n",
    "Here, F and S corresponds to the terminal states. On each state, we can choose either to move to the left, or move to the right. Rewards is 0 if we move from E to S and -1 otherwise. The initial location is given by state C, in the middle. \n",
    "\n",
    "* You will apply the REINFORCE algorithm (P26, Lecture 8) to this example to compute an optimal policy. Specifically, since the action is binary, we consider using Example 3 to parametrize (P23, Lecture 8) the policy class. The feature function $\\phi(s)$ can be set to a table lookup function, e.g., $\\phi(s)=[I(s=s_1), I(s=s_2), \\cdots, I(s=s_7)]$ where $(s_1,\\cdots,s_7)$ corresponds to the state space. You may fix the step size $\\alpha$ to 0.1. \n",
    "\n",
    "* Consider generating 1000 episodes to learn the optimal policy. In each episode, compute the return. This yields a total of 1000 returns. Repeat this procedure 100 times and compute the average return for each episode, aggregated over 100 replications. \n",
    "\n",
    "* As we have discussed in the lecture, the expected value of the policy score is equal to zero. As such, we can add a baseline term to the return $G_t$ to reduce the variance of the gradient. Under the current setting, the return is at most $-2$. We may replace $G_t$ in the REINFORCE algorithm with $G_t+2$. The resulting gradient is expected to have a smaller variance. Repeat the procedure in Step 2 for this algorithm and compute the average return for each of the 1000 episodes. \n",
    "\n",
    "* Plot the 2000 average returns obtained in Steps 2 and 3. "
   ]
  },
  {
   "cell_type": "markdown",
   "id": "9668f5e7",
   "metadata": {},
   "source": [
    "<img  src=./graphs/randomwalk.png  width=750>"
   ]
  },
  {
   "cell_type": "markdown",
   "id": "0e53cdc0",
   "metadata": {},
   "source": [
    "## First, let us review the REINFORCE algorithm"
   ]
  },
  {
   "cell_type": "markdown",
   "id": "ec1728f2",
   "metadata": {},
   "source": [
    "<img  src=./graphs/REINFORCE.png  width=750>"
   ]
  },
  {
   "cell_type": "markdown",
   "id": "1f5cb618",
   "metadata": {},
   "source": [
    "In our example, we combine a table lookup model with a logistic regression model to model the $\\pi$. Specifically, for each state $s$, we can model the probability of moving to the right (or to the left) as $$\\exp(\\theta_s)/[1+\\exp(\\theta_s)].$$ With some calculations, it is easy to show that the policy score equals\n",
    "\\begin{eqnarray*}\n",
    "    \\nabla_{\\theta_s} \\log(\\pi(s,\\textrm{right};\\theta_s))&=&1-\\frac{\\exp(\\theta_s)}{1+\\exp(\\theta_s)}=\\frac{1}{1+\\exp(\\theta_s)},\\\\\n",
    "    \\nabla_{\\theta_s} \\log(\\pi(s,\\textrm{left};\\theta_s))&=&-\\frac{\\exp(\\theta_s)}{1+\\exp(\\theta_s)}=-\\frac{1}{1+\\exp(-\\theta_s)}.\n",
    "\\end{eqnarray*}\n",
    "We will use these policy scores to update the policy parameter."
   ]
  },
  {
   "cell_type": "markdown",
   "id": "33ed2f5b",
   "metadata": {},
   "source": [
    "## Second, let us implement the random walk environment (we use similar code in Seminar 4)"
   ]
  },
  {
   "cell_type": "code",
   "execution_count": 1,
   "id": "145350c9",
   "metadata": {},
   "outputs": [],
   "source": [
    "# actions\n",
    "left = 0\n",
    "right = 1\n",
    "\n",
    "class RandomWalk:\n",
    "    def __init__(self, initial_state):\n",
    "        self.initial_state = initial_state\n",
    "        self.state = self.initial_state\n",
    "        self.reward = 0.0\n",
    "        self.is_terminal = False\n",
    "\n",
    "    # write step function that returns obs(next state), reward, is_done\n",
    "    def step(self, action):\n",
    "        if self.state == 5 and action == right:\n",
    "            self.state += 1\n",
    "            self.is_terminal = True\n",
    "            self.reward = 0.0\n",
    "        elif self.state == 1 and action == left:\n",
    "            self.state -= 1\n",
    "            self.is_terminal = True\n",
    "            self.reward = -1.0\n",
    "        else:\n",
    "            if action == left:\n",
    "                self.state -= 1\n",
    "                self.is_terminal = False\n",
    "                self.reward = -1.0\n",
    "\n",
    "            else:\n",
    "                self.state += 1\n",
    "                self.is_terminal = False\n",
    "                self.reward = -1.0\n",
    "\n",
    "        return self.state, self.reward, self.is_terminal\n",
    "\n",
    "    def reset(self):\n",
    "        self.state = self.initial_state\n",
    "        self.reward = 0.0\n",
    "        self.is_terminal = False\n",
    "        return self.state"
   ]
  },
  {
   "cell_type": "markdown",
   "id": "a35c126a",
   "metadata": {},
   "source": [
    "## Next, let us implement the REINFORCE algorithm"
   ]
  },
  {
   "cell_type": "code",
   "execution_count": 2,
   "id": "958b56ba",
   "metadata": {},
   "outputs": [],
   "source": [
    "import numpy as np\n",
    "import numpy.random as nr\n",
    "\n",
    "initial_state = 3  \n",
    "episodes = 1000\n",
    "env = RandomWalk(initial_state)\n",
    "\n",
    "def policy(theta):\n",
    "    rand = np.random.random()\n",
    "    a = 1 if (rand < 1/(1+np.exp(-theta))) else 0\n",
    "    return a\n",
    "\n",
    "alpha = 0.1 # step size\n",
    "initial_state = 3  \n",
    "env = RandomWalk(initial_state)\n",
    "\n",
    "rewards = np.zeros((episodes, 2))\n",
    "nruns = 100\n",
    "for r in range(nruns): \n",
    "    Theta = np.zeros(7)\n",
    "    for i in range(episodes):\n",
    "        state = env.reset()\n",
    "        done = False\n",
    "        g = 0.0\n",
    "        sar = []\n",
    "\n",
    "        while not done:\n",
    "            a = policy(Theta[state])\n",
    "            next_state, r, done = env.step(a)\n",
    "            sar.append([state, a, r])\n",
    "            g += r\n",
    "            state = next_state\n",
    "\n",
    "        rewards[i,0] += g\n",
    "\n",
    "        ## REINFORCE update\n",
    "        for state, a, r in sar:\n",
    "            theta = Theta[state]\n",
    "            if (a==1):\n",
    "                Theta[state] += alpha * g * (1/(1+np.exp(theta)))\n",
    "            else:\n",
    "                Theta[state] -= alpha * g * (1/(1+np.exp(-theta)))\n",
    "            g = g-r\n",
    "            \n",
    "    Theta = np.zeros(7)\n",
    "    for i in range(episodes):\n",
    "        state = env.reset()\n",
    "        done = False\n",
    "        g = 0.0\n",
    "        sar = []\n",
    "\n",
    "        while not done:\n",
    "            a = policy(Theta[state])\n",
    "            next_state, r, done = env.step(a)\n",
    "            sar.append([state, a, r])\n",
    "            g += r\n",
    "            state = next_state\n",
    "\n",
    "        rewards[i,1] += g\n",
    "\n",
    "        ## REINFORCE update\n",
    "        for state, a, r in sar:\n",
    "            theta = Theta[state]\n",
    "            if (a==1):\n",
    "                Theta[state] += alpha * (g+2) * (1/(1+np.exp(theta)))\n",
    "            else:\n",
    "                Theta[state] -= alpha * (g+2) * (1/(1+np.exp(-theta)))\n",
    "            g = g-r      \n",
    "            \n",
    "rewards = rewards / nruns"
   ]
  },
  {
   "cell_type": "code",
   "execution_count": 3,
   "id": "09cd1074",
   "metadata": {},
   "outputs": [
    {
     "data": {
      "text/plain": [
       "array([[-9.49, -8.01, -7.69, ..., -2.26, -2.25, -2.22],\n",
       "       [-9.96, -7.22, -7.31, ..., -2.19, -2.12, -2.13]])"
      ]
     },
     "execution_count": 3,
     "metadata": {},
     "output_type": "execute_result"
    }
   ],
   "source": [
    "np.transpose(rewards)"
   ]
  },
  {
   "cell_type": "code",
   "execution_count": 4,
   "id": "237687a8",
   "metadata": {},
   "outputs": [
    {
     "data": {
      "text/plain": [
       "array([ 0.        , -3.10462032, -2.20402799,  4.95564218,  5.65060554,\n",
       "        5.321152  ,  0.        ])"
      ]
     },
     "execution_count": 4,
     "metadata": {},
     "output_type": "execute_result"
    }
   ],
   "source": [
    "Theta"
   ]
  },
  {
   "cell_type": "markdown",
   "id": "9022e4d4",
   "metadata": {},
   "source": [
    "## Finally, let us visualise these rewards"
   ]
  },
  {
   "cell_type": "code",
   "execution_count": 5,
   "id": "47877a88",
   "metadata": {},
   "outputs": [],
   "source": [
    "import matplotlib.pyplot as plt\n",
    "def plot_return(rewards):\n",
    "    plt.figure(figsize=(8, 6), dpi=80)\n",
    "    for a in rewards:\n",
    "        plt.plot(a, linewidth=3)\n",
    "    plt.xlabel('Episode')\n",
    "    plt.ylim(-5, 0)\n",
    "    plt.ylabel('Rewards')\n",
    "    legend_str = [\"G\", \"G+2\"]\n",
    "    plt.legend(legend_str)\n",
    "    plt.show()"
   ]
  },
  {
   "cell_type": "code",
   "execution_count": 6,
   "id": "54af70db",
   "metadata": {},
   "outputs": [
    {
     "data": {
      "image/png": "[encoded data removed]",
      "text/plain": [
       "<Figure size 640x480 with 1 Axes>"
      ]
     },
     "metadata": {
      "needs_background": "light"
     },
     "output_type": "display_data"
    }
   ],
   "source": [
    "plot_return(np.transpose(rewards))"
   ]
  },
  {
   "cell_type": "code",
   "execution_count": null,
   "id": "1dd5b221",
   "metadata": {},
   "outputs": [],
   "source": []
  }
 ],
 "metadata": {
  "kernelspec": {
   "display_name": "Python 3 (ipykernel)",
   "language": "python",
   "name": "python3"
  },
  "language_info": {
   "codemirror_mode": {
    "name": "ipython",
    "version": 3
   },
   "file_extension": ".py",
   "mimetype": "text/x-python",
   "name": "python",
   "nbconvert_exporter": "python",
   "pygments_lexer": "ipython3",
   "version": "3.9.7"
  }
 },
 "nbformat": 4,
 "nbformat_minor": 5
}
